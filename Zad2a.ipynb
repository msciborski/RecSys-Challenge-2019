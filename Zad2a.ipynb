{
 "cells": [
  {
   "cell_type": "markdown",
   "metadata": {},
   "source": [
    "## Imports"
   ]
  },
  {
   "cell_type": "code",
   "execution_count": 1,
   "metadata": {},
   "outputs": [],
   "source": [
    "import math\n",
    "import pandas as pd\n",
    "import numpy as np\n",
    "from score_submission import score_subm as ss"
   ]
  },
  {
   "cell_type": "markdown",
   "metadata": {},
   "source": [
    "## Cols for submission"
   ]
  },
  {
   "cell_type": "code",
   "execution_count": 2,
   "metadata": {},
   "outputs": [],
   "source": [
    "GR_COLS = [\"user_id\", \"session_id\", \"timestamp\", \"step\"]"
   ]
  },
  {
   "cell_type": "markdown",
   "metadata": {},
   "source": [
    "## Convert string to array "
   ]
  },
  {
   "cell_type": "markdown",
   "metadata": {},
   "source": [
    "Code comes from baseline_algorithm"
   ]
  },
  {
   "cell_type": "code",
   "execution_count": 3,
   "metadata": {},
   "outputs": [],
   "source": [
    "def string_to_array(s):\n",
    "    \"\"\"Convert pipe separated string to array.\"\"\"\n",
    "\n",
    "    if isinstance(s, str):\n",
    "        out = s.split(\"|\")\n",
    "    elif math.isnan(s):\n",
    "        out = []\n",
    "    else:\n",
    "        raise ValueError(\"Value must be either string of nan\")\n",
    "    return out"
   ]
  },
  {
   "cell_type": "markdown",
   "metadata": {},
   "source": [
    "## Explode"
   ]
  },
  {
   "cell_type": "markdown",
   "metadata": {},
   "source": [
    "Code comes from baseline_algorithm"
   ]
  },
  {
   "cell_type": "code",
   "execution_count": 4,
   "metadata": {},
   "outputs": [],
   "source": [
    "def explode(df_in, col_expl):\n",
    "    \"\"\"Explode column col_expl of array type into multiple rows.\"\"\"\n",
    "\n",
    "    df = df_in.copy()\n",
    "    df.loc[:, col_expl] = df[col_expl].apply(string_to_array)\n",
    "\n",
    "    df_out = pd.DataFrame(\n",
    "        {col: np.repeat(df[col].values,\n",
    "                        df[col_expl].str.len())\n",
    "         for col in df.columns.drop(col_expl)}\n",
    "    )\n",
    "\n",
    "    df_out.loc[:, col_expl] = np.concatenate(df[col_expl].values)\n",
    "    df_out.loc[:, col_expl] = df_out[col_expl].apply(int)\n",
    "\n",
    "    return df_out"
   ]
  },
  {
   "cell_type": "markdown",
   "metadata": {},
   "source": [
    "## Concatante groups"
   ]
  },
  {
   "cell_type": "markdown",
   "metadata": {},
   "source": [
    "Code comes from baseline_algorithm"
   ]
  },
  {
   "cell_type": "code",
   "execution_count": 5,
   "metadata": {},
   "outputs": [],
   "source": [
    "def group_concat(df, gr_cols, col_concat):\n",
    "    \"\"\"Concatenate multiple rows into one.\"\"\"\n",
    "\n",
    "    df_out = (\n",
    "        df\n",
    "            .groupby(gr_cols)[col_concat]\n",
    "            .apply(lambda x: ' '.join(x))\n",
    "            .to_frame()\n",
    "            .reset_index()\n",
    "    )\n",
    "\n",
    "    return df_out"
   ]
  },
  {
   "cell_type": "markdown",
   "metadata": {},
   "source": [
    "## Identify rows with missing click outs"
   ]
  },
  {
   "cell_type": "markdown",
   "metadata": {},
   "source": [
    "Code comes from baseline_algorithm"
   ]
  },
  {
   "cell_type": "code",
   "execution_count": 6,
   "metadata": {},
   "outputs": [],
   "source": [
    "def get_submission_target(df):\n",
    "    mask = df[\"reference\"].isnull() & (df[\"action_type\"] == \"clickout item\")\n",
    "    df_out = df[mask]\n",
    "\n",
    "    return df_out"
   ]
  },
  {
   "cell_type": "markdown",
   "metadata": {},
   "source": [
    "## Geting popularity"
   ]
  },
  {
   "cell_type": "code",
   "execution_count": 7,
   "metadata": {},
   "outputs": [],
   "source": [
    "def get_popularity(df):\n",
    "    \"\"\"Get number of clicks that each item received in the df.\"\"\"\n",
    "\n",
    "    # Select clickouts from dataframe\n",
    "    df_clickout = df[(df.action_type == \"clickout item\")]\n",
    "\n",
    "    # Count clickouts\n",
    "    df_item_clicks = (\n",
    "        df_clickout\n",
    "            .groupby(\"reference\")\n",
    "            .size()\n",
    "            .reset_index(name=\"n_clicks\")\n",
    "            .transform(lambda x: x.astype(int))\n",
    "    )\n",
    "\n",
    "    # Count hotels with explode - splition impressions\n",
    "    hotels = explode(df_clickout, \"impressions\")\n",
    "    hotels_grouped = hotels.groupby(\"impressions\").size().reset_index(name=\"n_apperarances\").transform(\n",
    "        lambda x: x.astype(int))\n",
    "\n",
    "    # Find unique prices\n",
    "    prices = explode(df_clickout, \"prices\")\n",
    "    unique_prices = prices.drop_duplicates([\"prices\"]).sort_values([\"prices\"]).reset_index(drop=True)\n",
    "    unique_prices_list = unique_prices['prices'].tolist()\n",
    "\n",
    "    # Merge hotels with price - dictionary then dataframe\n",
    "    hotel_prices = {'reference': hotels.impressions, 'Price': prices.prices}\n",
    "    hotel_prices_df = pd.DataFrame(hotel_prices)\n",
    "    hotel_prices_df = hotel_prices_df.drop_duplicates([\"reference\"])\n",
    "\n",
    "    # Merge hotels with clicks\n",
    "    hotels_grouped.rename(columns={\"impressions\": \"reference\"}, inplace=True)\n",
    "    hotels_info = pd.merge(hotels_grouped, df_item_clicks, on='reference', how='left')\n",
    "    hotels_info['n_clicks'] = hotels_info['n_clicks'].fillna(0)\n",
    "\n",
    "\n",
    "    # Add CTR\n",
    "    hotels_info['CTR'] = hotels_info.n_clicks / hotels_info.n_apperarances * 100\n",
    "    hotels_info['CTR'] = hotels_info['CTR'].transform(lambda x: x.astype(int))\n",
    "\n",
    "    # Add Price\n",
    "    hotels_info = pd.merge(hotels_info, hotel_prices_df, on='reference')\n",
    "\n",
    "\n",
    "    price_cuttoff = unique_prices_list[int(unique_prices.shape[0] * 0.75)]\n",
    "\n",
    "    # wybiera tylko wiersze ktore mają CTR większy od 50 i cene mniejszą lub równą progu cenowego\n",
    "    # hotels_info.n_click!=0 jest po to bo jak było jedno wyswietlenie i zero kliknieć to ctr dawał 100\n",
    "    hotels_info = hotels_info[\n",
    "        (hotels_info.n_clicks != 0) & (hotels_info.CTR >= 50) & (hotels_info.Price <= price_cuttoff)]\n",
    "    hotels_info = hotels_info.sort_values([\"n_clicks\"], ascending=False)\n",
    "\n",
    "    return hotels_info\n"
   ]
  },
  {
   "cell_type": "markdown",
   "metadata": {},
   "source": [
    "## Calc recomendations"
   ]
  },
  {
   "cell_type": "code",
   "execution_count": 8,
   "metadata": {},
   "outputs": [],
   "source": [
    "def calc_recommendation(df_expl, df_pop):\n",
    "    \"\"\"Calculate recommendations based on popularity of items.\n",
    "\n",
    "   The final data frame will have an impression list sorted according to the number of clicks per item in a reference data frame.\n",
    "\n",
    "   :param df_expl: Data frame with exploded impression list\n",
    "   :param df_pop: Data frame with items and number of clicks\n",
    "   :return: Data frame with sorted impression list according to popularity in df_pop\n",
    "   \"\"\"\n",
    "\n",
    "    df_expl_clicks = (\n",
    "        df_expl[GR_COLS + [\"impressions\"]]\n",
    "            .merge(df_pop,\n",
    "                   left_on=\"impressions\",\n",
    "                   right_on=\"reference\",\n",
    "                   how=\"left\")\n",
    "    )\n",
    "\n",
    "    df_out = (\n",
    "        df_expl_clicks\n",
    "            .assign(impressions=lambda x: x[\"impressions\"].apply(str))\n",
    "            .sort_values(GR_COLS + [\"n_clicks\"],\n",
    "                         ascending=[True, True, True, True, False])\n",
    "    )\n",
    "\n",
    "    df_out = group_concat(df_out, GR_COLS, \"impressions\")\n",
    "    df_out.rename(columns={'impressions': 'item_recommendations'}, inplace=True)\n",
    "\n",
    "    return df_out"
   ]
  },
  {
   "cell_type": "markdown",
   "metadata": {},
   "source": [
    "## Test"
   ]
  },
  {
   "cell_type": "code",
   "execution_count": 9,
   "metadata": {},
   "outputs": [
    {
     "name": "stdout",
     "output_type": "stream",
     "text": [
      "Reading ground truth data ./data/groundTruth.csv ...\n",
      "Reading submission data ./data/submission_popular.csv ...\n",
      "Mean reciprocal rank: 0.5001593724458934\n"
     ]
    }
   ],
   "source": [
    "    train_csv = './data/train.csv'\n",
    "    test_csv = './data/test.csv'\n",
    "    ground_truth_csv = './data/groundTruth.csv'\n",
    "    subm_csv = './data/submission_popular.csv'\n",
    "\n",
    "    df_train = pd.read_csv(train_csv)\n",
    "    df_test = pd.read_csv(test_csv)\n",
    "\n",
    "    df_popular = get_popularity(df_train)\n",
    "\n",
    "    df_target = get_submission_target(df_test)\n",
    "\n",
    "    df_expl = explode(df_target, \"impressions\")\n",
    "    df_out = calc_recommendation(df_expl, df_popular)\n",
    "\n",
    "    df_out.to_csv(subm_csv, index=False)\n",
    "\n",
    "    ss.main(ground_truth_csv, subm_csv)"
   ]
  }
 ],
 "metadata": {
  "kernelspec": {
   "display_name": "Python 3",
   "language": "python",
   "name": "python3"
  },
  "language_info": {
   "codemirror_mode": {
    "name": "ipython",
    "version": 3
   },
   "file_extension": ".py",
   "mimetype": "text/x-python",
   "name": "python",
   "nbconvert_exporter": "python",
   "pygments_lexer": "ipython3",
   "version": "3.7.4"
  }
 },
 "nbformat": 4,
 "nbformat_minor": 2
}
